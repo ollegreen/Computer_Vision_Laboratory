{
 "cells": [
  {
   "cell_type": "markdown",
   "metadata": {},
   "source": [
    "# Computer Vision to Classify Retail Clothing\n",
    "\n",
    "*Let's classify pictures of clothing to make it easier for retail organisations to know where to send the package internally after a customer has returned a piece of clothing.*\n",
    "\n",
    "![retail](https://www.thebalancecareers.com/thmb/b_NvlLTzciqlvwg4N5eOmwG23Pw=/1885x1414/smart/filters:no_upscale()/GettyImages-814557872-5b99d19646e0fb0050278b86.jpg)\n",
    "\n",
    "## Main Goal\n",
    "- ```Main Goal:``` Make a lightweight program to classify retail clothing using Keras.\n",
    "- ```Why lightweight?``` For scalability in larger retail organisations. \n",
    "- ```Learning Objective:``` To get a grasp of using CV in the retail industry. \n",
    "- ```what are the results (from a non-technical perspective):``` It reduces the manual handeing of identifying what type of clothing a specific item is. \n",
    "- ```What is the impact of using this?``` To use this we can reduce the number of employees classifying where to send a returned item, reducing costs and increasing profits.  \n",
    "\n",
    "*Olle*\n"
   ]
  },
  {
   "cell_type": "markdown",
   "metadata": {},
   "source": [
    "### Import what's needed\n",
    "\n",
    "https://www.marktechpost.com/2019/07/30/introduction-to-image-classification-using-pytorch-to-classify-fashionmnist-dataset/"
   ]
  },
  {
   "cell_type": "markdown",
   "metadata": {},
   "source": [
    "#### Import Libraries\n",
    "Before we start building our network, first we need to import the required libraries. \n",
    "\n",
    "* Numpy -> because we need to convert tensor image to numpy format so that we can use matplotlib to visualize the images. \n",
    "* Importing torch for all things related to Pytorch and \n",
    "* Torchvision to download the Fashion MNIST dataset."
   ]
  },
  {
   "cell_type": "code",
   "execution_count": 1,
   "metadata": {},
   "outputs": [
    {
     "data": {
      "text/plain": [
       "<Figure size 216x216 with 0 Axes>"
      ]
     },
     "execution_count": 1,
     "metadata": {},
     "output_type": "execute_result"
    },
    {
     "data": {
      "text/plain": [
       "<Figure size 216x216 with 0 Axes>"
      ]
     },
     "metadata": {},
     "output_type": "display_data"
    }
   ],
   "source": [
    "import torchvision\n",
    "import torchvision.transforms as transforms\n",
    "import torch\n",
    "import matplotlib.pyplot as plt\n",
    "import numpy as np\n",
    "plt.figure(figsize = (3,3)) #define the image size"
   ]
  },
  {
   "cell_type": "markdown",
   "metadata": {},
   "source": [
    "#### Download Dataset\n",
    "The torchvision package consists of popular datasets, model architectures, and common image transformations for computer vision. \n",
    "\n",
    "All the images present in the FashionMNIST dataset are stored in PIL format. So we are using transform function to transform the input images to Pytorch tensors.\n",
    "\n",
    "* **A Pytorch tensor is**:  A torch.Tensor is a multi-dimensional matrix containing elements of a single data type.\n",
    "\n",
    "* **How do we use the PyTorch Tensors?** Basically, Tensors are a type of data structure used in linear algebra, and like vectors and matrices, you can calculate arithmetic operations with tensors.\n",
    "\n",
    "![tensor](https://cdn-images-1.medium.com/max/2000/1*_D5ZvufDS38WkhK9rK32hQ.jpeg)\n",
    "\n",
    "A tensor is the basic building block of modern machine learning. At its core, it's a data container. Mostly it contains numbers. Sometimes it even includes strings, but that is rare. ***So think of it as a bucket of numbers.***\n",
    "\n",
    "\n",
    "\n",
    "* **but what are data structures?** Basically;\n",
    "\n",
    "1. Linear: arrays, lists, \n",
    "2. Tree: binary, heaps, space partitioning etc.\n",
    "3. Hash: distributed hash table, hash tree etc.\n",
    "4. Graphs: decision, directed, acyclic etc.\n"
   ]
  },
  {
   "cell_type": "code",
   "execution_count": 8,
   "metadata": {},
   "outputs": [
    {
     "name": "stdout",
     "output_type": "stream",
     "text": [
      "tensor([[0.2476, 0.4892, 0.6855, 0.2036, 0.8661],\n",
      "        [0.2830, 0.0245, 0.4869, 0.4542, 0.5864],\n",
      "        [0.5764, 0.1221, 0.5494, 0.8100, 0.6242],\n",
      "        [0.0507, 0.7309, 0.4009, 0.3396, 0.1037],\n",
      "        [0.6474, 0.7633, 0.8037, 0.7847, 0.4745]])\n"
     ]
    }
   ],
   "source": [
    "# Let's print a tensor for visual purposes\n",
    "\n",
    "x = torch.rand(5,5)\n",
    "print(x)"
   ]
  },
  {
   "cell_type": "markdown",
   "metadata": {},
   "source": [
    "### What did we just print? \n",
    "\n",
    "Well it's a 3x3 matrix with random numbers. \n",
    "\n",
    "The next question becomes, how is this connected to the visual aspect of analysing the MNIST dataset? "
   ]
  },
  {
   "cell_type": "markdown",
   "metadata": {},
   "source": [
    "# Set up the Data"
   ]
  },
  {
   "cell_type": "code",
   "execution_count": null,
   "metadata": {},
   "outputs": [],
   "source": [
    "#transforming the PIL Image to tensors\n",
    "trainset = torchvision.datasets.FashionMNIST(root = \"./data\", train = True, download = True, transform = transforms.ToTensor())\n",
    "testset = torchvision.datasets.FashionMNIST(root = \"./data\", train = False, download = True, transform = transforms.ToTensor())"
   ]
  }
 ],
 "metadata": {
  "kernelspec": {
   "display_name": "Python 3",
   "language": "python",
   "name": "python3"
  },
  "language_info": {
   "codemirror_mode": {
    "name": "ipython",
    "version": 3
   },
   "file_extension": ".py",
   "mimetype": "text/x-python",
   "name": "python",
   "nbconvert_exporter": "python",
   "pygments_lexer": "ipython3",
   "version": "3.7.7"
  }
 },
 "nbformat": 4,
 "nbformat_minor": 4
}
