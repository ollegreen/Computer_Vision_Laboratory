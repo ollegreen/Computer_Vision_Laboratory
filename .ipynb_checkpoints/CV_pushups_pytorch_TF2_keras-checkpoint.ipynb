{
 "cells": [
  {
   "cell_type": "markdown",
   "metadata": {},
   "source": [
    "# Computer Vision For Pushups\n",
    "\n",
    "*Let's see if we can use CV to verify that we are doing a pushup.*\n",
    "\n",
    "![retail](https://www.thebalancecareers.com/thmb/b_NvlLTzciqlvwg4N5eOmwG23Pw=/1885x1414/smart/filters:no_upscale()/GettyImages-814557872-5b99d19646e0fb0050278b86.jpg)\n",
    "\n",
    "## Main Goal\n",
    "- ```Main Goal:``` use CV to verify that we are doing a pushup, and if a certain number of pushups are achieved, then we get a reward.\n",
    "- ```Learning Objective:``` To get a grasp of using CV in video format. \n",
    "- ```What is the impact of using this?``` We might actually do some pushups at home instead of being at the gym. COVID-compatible.  \n",
    "\n",
    "*Olle*\n"
   ]
  },
  {
   "cell_type": "markdown",
   "metadata": {},
   "source": [
    "### Import what's needed\n",
    "\n",
    "- Seems like *\"action recognition video datasets\"* are the ones we are gonna use for training our model and use video based data. "
   ]
  },
  {
   "cell_type": "code",
   "execution_count": 4,
   "metadata": {},
   "outputs": [],
   "source": [
    "import torch\n",
    "\n",
    "from torchvision import transforms\n",
    "from torchvision.datasets import UCF101"
   ]
  },
  {
   "cell_type": "code",
   "execution_count": null,
   "metadata": {},
   "outputs": [],
   "source": []
  }
 ],
 "metadata": {
  "kernelspec": {
   "display_name": "Python 3",
   "language": "python",
   "name": "python3"
  },
  "language_info": {
   "codemirror_mode": {
    "name": "ipython",
    "version": 3
   },
   "file_extension": ".py",
   "mimetype": "text/x-python",
   "name": "python",
   "nbconvert_exporter": "python",
   "pygments_lexer": "ipython3",
   "version": "3.7.7"
  }
 },
 "nbformat": 4,
 "nbformat_minor": 4
}
